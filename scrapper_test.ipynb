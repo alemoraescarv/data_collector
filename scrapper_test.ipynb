{
 "cells": [
  {
   "cell_type": "code",
   "execution_count": 25,
   "metadata": {},
   "outputs": [],
   "source": [
    "from utils.scraper import Scrapper\n",
    "import time\n",
    "\n",
    "bot = Scrapper()"
   ]
  },
  {
   "cell_type": "code",
   "execution_count": 26,
   "metadata": {},
   "outputs": [],
   "source": [
    "from selenium import webdriver\n",
    "from selenium.webdriver.common.keys import Keys\n",
    "\n",
    "from selenium.webdriver.common.by import By\n",
    "from selenium.webdriver.support.ui import WebDriverWait\n",
    "from selenium.webdriver.support import expected_conditions as EC\n",
    "\n",
    "from webdriver_manager.chrome import ChromeDriverManager\n",
    "\n",
    "accept_privacy = WebDriverWait(bot.driver, 5).until(EC.element_to_be_clickable((By.XPATH, '//div[text()=\"Accept\"]')))\n",
    "accept_privacy.click()"
   ]
  },
  {
   "cell_type": "code",
   "execution_count": 29,
   "metadata": {},
   "outputs": [
    {
     "ename": "ElementNotInteractableException",
     "evalue": "Message: element not interactable\n  (Session info: chrome=106.0.5249.119)\nStacktrace:\n0   chromedriver                        0x0000000103ae8598 chromedriver + 4404632\n1   chromedriver                        0x0000000103a6ffa3 chromedriver + 3911587\n2   chromedriver                        0x000000010371cd20 chromedriver + 425248\n3   chromedriver                        0x000000010374ee5f chromedriver + 630367\n4   chromedriver                        0x000000010374e402 chromedriver + 627714\n5   chromedriver                        0x0000000103772da2 chromedriver + 777634\n6   chromedriver                        0x0000000103749465 chromedriver + 607333\n7   chromedriver                        0x0000000103772efe chromedriver + 777982\n8   chromedriver                        0x0000000103789f79 chromedriver + 872313\n9   chromedriver                        0x0000000103772bd3 chromedriver + 777171\n10  chromedriver                        0x0000000103747ced chromedriver + 601325\n11  chromedriver                        0x0000000103748e51 chromedriver + 605777\n12  chromedriver                        0x0000000103ab80ce chromedriver + 4206798\n13  chromedriver                        0x0000000103abc797 chromedriver + 4224919\n14  chromedriver                        0x0000000103ac3a4f chromedriver + 4254287\n15  chromedriver                        0x0000000103abd4da chromedriver + 4228314\n16  chromedriver                        0x0000000103a9623f chromedriver + 4067903\n17  chromedriver                        0x0000000103ada6a8 chromedriver + 4347560\n18  chromedriver                        0x0000000103ada816 chromedriver + 4347926\n19  chromedriver                        0x0000000103aef8fe chromedriver + 4434174\n20  libsystem_pthread.dylib             0x00007ff816d2a4e1 _pthread_start + 125\n21  libsystem_pthread.dylib             0x00007ff816d25f6b thread_start + 15\n",
     "output_type": "error",
     "traceback": [
      "\u001b[0;31m---------------------------------------------------------------------------\u001b[0m",
      "\u001b[0;31mElementNotInteractableException\u001b[0m           Traceback (most recent call last)",
      "Cell \u001b[0;32mIn [29], line 4\u001b[0m\n\u001b[1;32m      2\u001b[0m departure_airport \u001b[38;5;241m=\u001b[39m bot\u001b[38;5;241m.\u001b[39mdriver\u001b[38;5;241m.\u001b[39mfind_element(By\u001b[38;5;241m.\u001b[39mXPATH,\u001b[38;5;124m'\u001b[39m\u001b[38;5;124m//div[@class=\u001b[39m\u001b[38;5;124m\"\u001b[39m\u001b[38;5;124mvvTc-item-value\u001b[39m\u001b[38;5;124m\"\u001b[39m\u001b[38;5;124m]\u001b[39m\u001b[38;5;124m'\u001b[39m)\n\u001b[1;32m      3\u001b[0m departure_airport\u001b[38;5;241m.\u001b[39mclick()\n\u001b[0;32m----> 4\u001b[0m departure_airport\u001b[38;5;241m.\u001b[39msend_keys(\u001b[38;5;124m\"\u001b[39m\u001b[38;5;124mLondon\u001b[39m\u001b[38;5;124m\"\u001b[39m)\n",
      "File \u001b[0;32m/usr/local/lib/python3.9/site-packages/selenium/webdriver/remote/webelement.py:223\u001b[0m, in \u001b[0;36mWebElement.send_keys\u001b[0;34m(self, *value)\u001b[0m\n\u001b[1;32m    220\u001b[0m             remote_files\u001b[39m.\u001b[39mappend(\u001b[39mself\u001b[39m\u001b[39m.\u001b[39m_upload(file))\n\u001b[1;32m    221\u001b[0m         value \u001b[39m=\u001b[39m \u001b[39m'\u001b[39m\u001b[39m\\n\u001b[39;00m\u001b[39m'\u001b[39m\u001b[39m.\u001b[39mjoin(remote_files)\n\u001b[0;32m--> 223\u001b[0m \u001b[39mself\u001b[39;49m\u001b[39m.\u001b[39;49m_execute(Command\u001b[39m.\u001b[39;49mSEND_KEYS_TO_ELEMENT,\n\u001b[1;32m    224\u001b[0m               {\u001b[39m'\u001b[39;49m\u001b[39mtext\u001b[39;49m\u001b[39m'\u001b[39;49m: \u001b[39m\"\u001b[39;49m\u001b[39m\"\u001b[39;49m\u001b[39m.\u001b[39;49mjoin(keys_to_typing(value)),\n\u001b[1;32m    225\u001b[0m                \u001b[39m'\u001b[39;49m\u001b[39mvalue\u001b[39;49m\u001b[39m'\u001b[39;49m: keys_to_typing(value)})\n",
      "File \u001b[0;32m/usr/local/lib/python3.9/site-packages/selenium/webdriver/remote/webelement.py:396\u001b[0m, in \u001b[0;36mWebElement._execute\u001b[0;34m(self, command, params)\u001b[0m\n\u001b[1;32m    394\u001b[0m     params \u001b[39m=\u001b[39m {}\n\u001b[1;32m    395\u001b[0m params[\u001b[39m'\u001b[39m\u001b[39mid\u001b[39m\u001b[39m'\u001b[39m] \u001b[39m=\u001b[39m \u001b[39mself\u001b[39m\u001b[39m.\u001b[39m_id\n\u001b[0;32m--> 396\u001b[0m \u001b[39mreturn\u001b[39;00m \u001b[39mself\u001b[39;49m\u001b[39m.\u001b[39;49m_parent\u001b[39m.\u001b[39;49mexecute(command, params)\n",
      "File \u001b[0;32m/usr/local/lib/python3.9/site-packages/selenium/webdriver/remote/webdriver.py:429\u001b[0m, in \u001b[0;36mWebDriver.execute\u001b[0;34m(self, driver_command, params)\u001b[0m\n\u001b[1;32m    427\u001b[0m response \u001b[39m=\u001b[39m \u001b[39mself\u001b[39m\u001b[39m.\u001b[39mcommand_executor\u001b[39m.\u001b[39mexecute(driver_command, params)\n\u001b[1;32m    428\u001b[0m \u001b[39mif\u001b[39;00m response:\n\u001b[0;32m--> 429\u001b[0m     \u001b[39mself\u001b[39;49m\u001b[39m.\u001b[39;49merror_handler\u001b[39m.\u001b[39;49mcheck_response(response)\n\u001b[1;32m    430\u001b[0m     response[\u001b[39m'\u001b[39m\u001b[39mvalue\u001b[39m\u001b[39m'\u001b[39m] \u001b[39m=\u001b[39m \u001b[39mself\u001b[39m\u001b[39m.\u001b[39m_unwrap_value(\n\u001b[1;32m    431\u001b[0m         response\u001b[39m.\u001b[39mget(\u001b[39m'\u001b[39m\u001b[39mvalue\u001b[39m\u001b[39m'\u001b[39m, \u001b[39mNone\u001b[39;00m))\n\u001b[1;32m    432\u001b[0m     \u001b[39mreturn\u001b[39;00m response\n",
      "File \u001b[0;32m/usr/local/lib/python3.9/site-packages/selenium/webdriver/remote/errorhandler.py:243\u001b[0m, in \u001b[0;36mErrorHandler.check_response\u001b[0;34m(self, response)\u001b[0m\n\u001b[1;32m    241\u001b[0m         alert_text \u001b[39m=\u001b[39m value[\u001b[39m'\u001b[39m\u001b[39malert\u001b[39m\u001b[39m'\u001b[39m]\u001b[39m.\u001b[39mget(\u001b[39m'\u001b[39m\u001b[39mtext\u001b[39m\u001b[39m'\u001b[39m)\n\u001b[1;32m    242\u001b[0m     \u001b[39mraise\u001b[39;00m exception_class(message, screen, stacktrace, alert_text)  \u001b[39m# type: ignore[call-arg]  # mypy is not smart enough here\u001b[39;00m\n\u001b[0;32m--> 243\u001b[0m \u001b[39mraise\u001b[39;00m exception_class(message, screen, stacktrace)\n",
      "\u001b[0;31mElementNotInteractableException\u001b[0m: Message: element not interactable\n  (Session info: chrome=106.0.5249.119)\nStacktrace:\n0   chromedriver                        0x0000000103ae8598 chromedriver + 4404632\n1   chromedriver                        0x0000000103a6ffa3 chromedriver + 3911587\n2   chromedriver                        0x000000010371cd20 chromedriver + 425248\n3   chromedriver                        0x000000010374ee5f chromedriver + 630367\n4   chromedriver                        0x000000010374e402 chromedriver + 627714\n5   chromedriver                        0x0000000103772da2 chromedriver + 777634\n6   chromedriver                        0x0000000103749465 chromedriver + 607333\n7   chromedriver                        0x0000000103772efe chromedriver + 777982\n8   chromedriver                        0x0000000103789f79 chromedriver + 872313\n9   chromedriver                        0x0000000103772bd3 chromedriver + 777171\n10  chromedriver                        0x0000000103747ced chromedriver + 601325\n11  chromedriver                        0x0000000103748e51 chromedriver + 605777\n12  chromedriver                        0x0000000103ab80ce chromedriver + 4206798\n13  chromedriver                        0x0000000103abc797 chromedriver + 4224919\n14  chromedriver                        0x0000000103ac3a4f chromedriver + 4254287\n15  chromedriver                        0x0000000103abd4da chromedriver + 4228314\n16  chromedriver                        0x0000000103a9623f chromedriver + 4067903\n17  chromedriver                        0x0000000103ada6a8 chromedriver + 4347560\n18  chromedriver                        0x0000000103ada816 chromedriver + 4347926\n19  chromedriver                        0x0000000103aef8fe chromedriver + 4434174\n20  libsystem_pthread.dylib             0x00007ff816d2a4e1 _pthread_start + 125\n21  libsystem_pthread.dylib             0x00007ff816d25f6b thread_start + 15\n"
     ]
    }
   ],
   "source": [
    "from selenium.webdriver.common.keys import Keys\n",
    "departure_airport = bot.driver.find_element(By.XPATH,'//div[@class=\"vvTc-item-value\"]')\n",
    "departure_airport.click()\n",
    "departure_airport.send_keys(\"London\")"
   ]
  }
 ],
 "metadata": {
  "kernelspec": {
   "display_name": "Python 3.9.12 64-bit",
   "language": "python",
   "name": "python3"
  },
  "language_info": {
   "codemirror_mode": {
    "name": "ipython",
    "version": 3
   },
   "file_extension": ".py",
   "mimetype": "text/x-python",
   "name": "python",
   "nbconvert_exporter": "python",
   "pygments_lexer": "ipython3",
   "version": "3.9.12"
  },
  "orig_nbformat": 4,
  "vscode": {
   "interpreter": {
    "hash": "aee8b7b246df8f9039afb4144a1f6fd8d2ca17a180786b69acc140d282b71a49"
   }
  }
 },
 "nbformat": 4,
 "nbformat_minor": 2
}
